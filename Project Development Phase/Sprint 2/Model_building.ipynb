{
  "nbformat": 4,
  "nbformat_minor": 0,
  "metadata": {
    "colab": {
      "provenance": []
    },
    "kernelspec": {
      "name": "python3",
      "display_name": "Python 3"
    },
    "language_info": {
      "name": "python"
    }
  },
  "cells": [
    {
      "cell_type": "code",
      "source": [
        "#Importing Neccessary Libraries\n",
        "\n",
        "import numpy as np\n",
        "#used for numerical analysis\n",
        "import tensorflow #open source used for both ML and DL for computation\n",
        "from tensorflow.keras.models import Sequential #it is a plain stack of layers\n",
        "from tensorflow.keras import layers # a layer consists of a tensor-in tensor-out computation function\n",
        "#Dense layer is the regular deeply connected neural network layer\n",
        "from tensorflow.keras.layers import Dense, Flatten \n",
        "#Flatten-used fot flattering the input or change the dimension\n",
        "from tensorflow.keras.layers import Conv2D, MaxPooling2D, Dropout #convolutional layer\n",
        "#MaxPooling2D-for downsampling the image\n",
        "from keras.preprocessing.image import ImageDataGenerator"
      ],
      "metadata": {
        "id": "XdON9-MKqt-K"
      },
      "execution_count": 1,
      "outputs": []
    },
    {
      "cell_type": "code",
      "source": [
        "#Creating the model\n",
        "model = models.Sequential()\n",
        "model.add(layers.Conv2D(32, (3, 3), activation='relu', input_shape=(32, 32, 3)))\n",
        "model.add(layers.MaxPooling2D((2, 2)))\n",
        "model.add(layers.Conv2D(64, (3, 3), activation='relu'))\n",
        "model.add(layers.MaxPooling2D((2, 2)))\n",
        "model.add(layers.Conv2D(64, (3, 3), activation='relu'))\n",
        "model.add(layers.Flatten())\n",
        "model.add(layers.Dense(64, activation='relu'))\n",
        "model.add(layers.Dense(10))\n"
      ],
      "metadata": {
        "id": "169yIjH3lrlT"
      },
      "execution_count": 6,
      "outputs": []
    },
    {
      "cell_type": "code",
      "source": [
        "model.summary()"
      ],
      "metadata": {
        "colab": {
          "base_uri": "https://localhost:8080/"
        },
        "id": "q5fdM_m2lvrx",
        "outputId": "a23ad839-b642-475e-ab4f-d2fb9f0b0b8c"
      },
      "execution_count": 7,
      "outputs": [
        {
          "output_type": "stream",
          "name": "stdout",
          "text": [
            "Model: \"sequential\"\n",
            "_________________________________________________________________\n",
            " Layer (type)                Output Shape              Param #   \n",
            "=================================================================\n",
            " conv2d (Conv2D)             (None, 30, 30, 32)        896       \n",
            "                                                                 \n",
            " max_pooling2d (MaxPooling2D  (None, 15, 15, 32)       0         \n",
            " )                                                               \n",
            "                                                                 \n",
            " conv2d_1 (Conv2D)           (None, 13, 13, 64)        18496     \n",
            "                                                                 \n",
            " max_pooling2d_1 (MaxPooling  (None, 6, 6, 64)         0         \n",
            " 2D)                                                             \n",
            "                                                                 \n",
            " conv2d_2 (Conv2D)           (None, 4, 4, 64)          36928     \n",
            "                                                                 \n",
            " flatten (Flatten)           (None, 1024)              0         \n",
            "                                                                 \n",
            " dense (Dense)               (None, 64)                65600     \n",
            "                                                                 \n",
            " dense_1 (Dense)             (None, 10)                650       \n",
            "                                                                 \n",
            "=================================================================\n",
            "Total params: 122,570\n",
            "Trainable params: 122,570\n",
            "Non-trainable params: 0\n",
            "_________________________________________________________________\n"
          ]
        }
      ]
    },
    {
      "cell_type": "code",
      "source": [
        "#Compiling the model\n",
        "model.compile(optimizer='adam',\n",
        "              loss=tf.keras.losses.SparseCategoricalCrossentropy(from_logits=True),\n",
        "              metrics=['accuracy'])\n",
        "#Fitting the model\n",
        "history = model.fit(train_images, train_labels, epochs=10, \n",
        "                    validation_data=(test_images, test_labels))"
      ],
      "metadata": {
        "colab": {
          "base_uri": "https://localhost:8080/"
        },
        "id": "7TWsgR2kl1K5",
        "outputId": "fe6d4071-b593-44ef-9992-aeb39c0f4ea7"
      },
      "execution_count": 8,
      "outputs": [
        {
          "output_type": "stream",
          "name": "stdout",
          "text": [
            "Epoch 1/10\n",
            "1563/1563 [==============================] - 96s 61ms/step - loss: 1.5379 - accuracy: 0.4366 - val_loss: 1.2458 - val_accuracy: 0.5478\n",
            "Epoch 2/10\n",
            "1563/1563 [==============================] - 82s 52ms/step - loss: 1.1749 - accuracy: 0.5824 - val_loss: 1.0893 - val_accuracy: 0.6180\n",
            "Epoch 3/10\n",
            "1563/1563 [==============================] - 84s 54ms/step - loss: 1.0327 - accuracy: 0.6349 - val_loss: 0.9994 - val_accuracy: 0.6471\n",
            "Epoch 4/10\n",
            "1563/1563 [==============================] - 85s 54ms/step - loss: 0.9294 - accuracy: 0.6728 - val_loss: 0.9913 - val_accuracy: 0.6504\n",
            "Epoch 5/10\n",
            "1563/1563 [==============================] - 83s 53ms/step - loss: 0.8529 - accuracy: 0.7009 - val_loss: 0.9671 - val_accuracy: 0.6659\n",
            "Epoch 6/10\n",
            "1563/1563 [==============================] - 85s 55ms/step - loss: 0.7917 - accuracy: 0.7219 - val_loss: 0.9034 - val_accuracy: 0.6820\n",
            "Epoch 7/10\n",
            "1563/1563 [==============================] - 83s 53ms/step - loss: 0.7442 - accuracy: 0.7387 - val_loss: 0.8854 - val_accuracy: 0.6985\n",
            "Epoch 8/10\n",
            "1563/1563 [==============================] - 87s 56ms/step - loss: 0.7010 - accuracy: 0.7550 - val_loss: 0.8781 - val_accuracy: 0.7013\n",
            "Epoch 9/10\n",
            "1563/1563 [==============================] - 87s 56ms/step - loss: 0.6541 - accuracy: 0.7702 - val_loss: 0.8918 - val_accuracy: 0.6975\n",
            "Epoch 10/10\n",
            "1563/1563 [==============================] - 85s 55ms/step - loss: 0.6198 - accuracy: 0.7823 - val_loss: 0.8726 - val_accuracy: 0.7082\n"
          ]
        }
      ]
    },
    {
      "cell_type": "code",
      "source": [
        "#Saving our model\n",
        "model.save('DATASET.h5')"
      ],
      "metadata": {
        "id": "WLvInNYXpQTz"
      },
      "execution_count": 9,
      "outputs": []
    },
    {
      "cell_type": "code",
      "source": [
        "model.load_weights('DATASET.h5')"
      ],
      "metadata": {
        "id": "SW74x3bapQiW"
      },
      "execution_count": 10,
      "outputs": []
    },
    {
      "cell_type": "code",
      "source": [
        "#Prediciting our results\n",
        "from tensorflow.keras.preprocessing import image\n",
        "import numpy as np"
      ],
      "metadata": {
        "id": "RDF0KhD3qyoB"
      },
      "execution_count": 11,
      "outputs": []
    },
    {
      "cell_type": "code",
      "source": [
        "img=image.load_img('/content/drive/MyDrive/DATASET/Dataset/TEST_SET/APPLES/153_100.jpg',target_size=(70,70))\n",
        "img"
      ],
      "metadata": {
        "colab": {
          "base_uri": "https://localhost:8080/",
          "height": 87
        },
        "id": "_OrLiTErq2xo",
        "outputId": "1aedf85c-bad5-4bae-8cf4-f654b407115e"
      },
      "execution_count": 12,
      "outputs": [
        {
          "output_type": "execute_result",
          "data": {
            "text/plain": [
              "<PIL.Image.Image image mode=RGB size=70x70 at 0x7FB6C4C90FD0>"
            ],
            "image/png": "[encoded data removed]"
          },
          "metadata": {},
          "execution_count": 12
        }
      ]
    },
    {
      "cell_type": "code",
      "source": [
        "x= image.img_to_array(img)\n"
      ],
      "metadata": {
        "id": "LN8xqzTar0Lb"
      },
      "execution_count": 13,
      "outputs": []
    },
    {
      "cell_type": "code",
      "source": [
        "x = np.expand_dims(x, axis=0)"
      ],
      "metadata": {
        "id": "p8lCho1Rr-E9"
      },
      "execution_count": 14,
      "outputs": []
    },
    {
      "cell_type": "code",
      "source": [
        "\n",
        "index=['APPLES', 'BANANA', 'ORANGE', 'PINEAPPLE', 'WATERMELON']\n",
        "result=str(index[0])\n",
        "result"
      ],
      "metadata": {
        "colab": {
          "base_uri": "https://localhost:8080/",
          "height": 36
        },
        "id": "2fI9nwY7sSvT",
        "outputId": "78267fa1-46af-42af-f5a9-fb1a0a785053"
      },
      "execution_count": 46,
      "outputs": [
        {
          "output_type": "execute_result",
          "data": {
            "text/plain": [
              "'APPLES'"
            ],
            "application/vnd.google.colaboratory.intrinsic+json": {
              "type": "string"
            }
          },
          "metadata": {},
          "execution_count": 46
        }
      ]
    }
  ]
}