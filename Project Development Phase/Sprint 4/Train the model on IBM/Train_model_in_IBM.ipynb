{
  "cells": [
    {
      "cell_type": "code",
      "execution_count": null,
      "id": "1d6da47f",
      "metadata": {
        "id": "1d6da47f",
        "outputId": "e35905e0-47dc-498f-eaac-d1fdac9925c4"
      },
      "outputs": [
        {
          "name": "stdout",
          "output_type": "stream",
          "text": [
            "Requirement already satisfied: watson-machine-learning-client in c:\\users\\elcot\\anaconda3\\lib\\site-packages (1.0.391)\n",
            "Requirement already satisfied: certifi in c:\\users\\elcot\\anaconda3\\lib\\site-packages (from watson-machine-learning-client) (2022.9.14)\n",
            "Requirement already satisfied: tqdm in c:\\users\\elcot\\anaconda3\\lib\\site-packages (from watson-machine-learning-client) (4.64.1)\n",
            "Requirement already satisfied: urllib3 in c:\\users\\elcot\\anaconda3\\lib\\site-packages (from watson-machine-learning-client) (1.26.11)\n",
            "Requirement already satisfied: tabulate in c:\\users\\elcot\\anaconda3\\lib\\site-packages (from watson-machine-learning-client) (0.8.10)\n",
            "Requirement already satisfied: requests in c:\\users\\elcot\\anaconda3\\lib\\site-packages (from watson-machine-learning-client) (2.28.1)\n",
            "Requirement already satisfied: ibm-cos-sdk in c:\\users\\elcot\\anaconda3\\lib\\site-packages (from watson-machine-learning-client) (2.11.0)\n",
            "Requirement already satisfied: lomond in c:\\users\\elcot\\anaconda3\\lib\\site-packages (from watson-machine-learning-client) (0.3.3)\n",
            "Requirement already satisfied: pandas in c:\\users\\elcot\\anaconda3\\lib\\site-packages (from watson-machine-learning-client) (1.4.4)\n",
            "Requirement already satisfied: boto3 in c:\\users\\elcot\\anaconda3\\lib\\site-packages (from watson-machine-learning-client) (1.24.28)\n",
            "Requirement already satisfied: s3transfer<0.7.0,>=0.6.0 in c:\\users\\elcot\\anaconda3\\lib\\site-packages (from boto3->watson-machine-learning-client) (0.6.0)\n",
            "Requirement already satisfied: botocore<1.28.0,>=1.27.28 in c:\\users\\elcot\\anaconda3\\lib\\site-packages (from boto3->watson-machine-learning-client) (1.27.28)\n",
            "Requirement already satisfied: jmespath<2.0.0,>=0.7.1 in c:\\users\\elcot\\anaconda3\\lib\\site-packages (from boto3->watson-machine-learning-client) (0.10.0)\n",
            "Requirement already satisfied: ibm-cos-sdk-core==2.11.0 in c:\\users\\elcot\\anaconda3\\lib\\site-packages (from ibm-cos-sdk->watson-machine-learning-client) (2.11.0)\n",
            "Requirement already satisfied: ibm-cos-sdk-s3transfer==2.11.0 in c:\\users\\elcot\\anaconda3\\lib\\site-packages (from ibm-cos-sdk->watson-machine-learning-client) (2.11.0)\n",
            "Requirement already satisfied: python-dateutil<3.0.0,>=2.1 in c:\\users\\elcot\\anaconda3\\lib\\site-packages (from ibm-cos-sdk-core==2.11.0->ibm-cos-sdk->watson-machine-learning-client) (2.8.2)\n",
            "Requirement already satisfied: idna<4,>=2.5 in c:\\users\\elcot\\anaconda3\\lib\\site-packages (from requests->watson-machine-learning-client) (3.3)\n",
            "Requirement already satisfied: charset-normalizer<3,>=2 in c:\\users\\elcot\\anaconda3\\lib\\site-packages (from requests->watson-machine-learning-client) (2.0.4)\n",
            "Requirement already satisfied: six>=1.10.0 in c:\\users\\elcot\\anaconda3\\lib\\site-packages (from lomond->watson-machine-learning-client) (1.16.0)\n",
            "Requirement already satisfied: numpy>=1.18.5 in c:\\users\\elcot\\anaconda3\\lib\\site-packages (from pandas->watson-machine-learning-client) (1.21.5)\n",
            "Requirement already satisfied: pytz>=2020.1 in c:\\users\\elcot\\anaconda3\\lib\\site-packages (from pandas->watson-machine-learning-client) (2022.1)\n",
            "Requirement already satisfied: colorama in c:\\users\\elcot\\anaconda3\\lib\\site-packages (from tqdm->watson-machine-learning-client) (0.4.5)\n"
          ]
        }
      ],
      "source": [
        "!pip install watson-machine-learning-client"
      ]
    },
    {
      "cell_type": "code",
      "execution_count": null,
      "id": "6fad06fb",
      "metadata": {
        "id": "6fad06fb"
      },
      "outputs": [],
      "source": [
        "from ibm_watson_machine_learning import APIClient\n",
        "wml_credentials = {\n",
        "    \"url\": \"https://us-south.ml.cloud.ibm.com\",\n",
        "    \"apikey\": \"IaEUv6fA1ZkCDrHhDbXfY58uLsWZ7iuPdpqlVt263zJw\"\n",
        "}\n",
        "client = APIClient(wml_credentials)"
      ]
    },
    {
      "cell_type": "code",
      "execution_count": null,
      "id": "ce770a93",
      "metadata": {
        "id": "ce770a93"
      },
      "outputs": [],
      "source": [
        "client=APIClient(wml_credentials)"
      ]
    },
    {
      "cell_type": "code",
      "execution_count": null,
      "id": "80b9f487",
      "metadata": {
        "id": "80b9f487"
      },
      "outputs": [],
      "source": [
        "def guid_from_space_name(client, space_name):\n",
        "    space = client.spaces.get_details()\n",
        "    #print(space)\n",
        "    return(next(item for item in space['resources']if item['entity']['name']== space_name)['metadata']['id'])"
      ]
    },
    {
      "cell_type": "code",
      "execution_count": null,
      "id": "a80a734c",
      "metadata": {
        "id": "a80a734c",
        "outputId": "e9d6de92-3bde-4b7a-dd38-d79ede2aef38"
      },
      "outputs": [
        {
          "name": "stdout",
          "output_type": "stream",
          "text": [
            "Space UID =fcd374ad-0043-4fc9-ac11-00f1e5e014a6\n"
          ]
        }
      ],
      "source": [
        "space_uid = guid_from_space_name(client,'ImageClassification')\n",
        "print(\"Space UID =\"+space_uid)"
      ]
    },
    {
      "cell_type": "code",
      "execution_count": null,
      "id": "2bc300df",
      "metadata": {
        "id": "2bc300df",
        "outputId": "cb6b258b-02bb-408f-e7ae-e2b83a10d9d4"
      },
      "outputs": [
        {
          "data": {
            "text/plain": [
              "'SUCCESS'"
            ]
          },
          "execution_count": 26,
          "metadata": {},
          "output_type": "execute_result"
        }
      ],
      "source": [
        "client.set.default_space(space_uid)"
      ]
    },
    {
      "cell_type": "code",
      "execution_count": null,
      "id": "7c60c5c3",
      "metadata": {
        "id": "7c60c5c3",
        "outputId": "28194e55-dc6b-4dc7-ed08-772812bb5e9d"
      },
      "outputs": [
        {
          "name": "stdout",
          "output_type": "stream",
          "text": [
            "Successfully saved model content to file: 'fitness.tar.gz'\n"
          ]
        },
        {
          "data": {
            "text/plain": [
              "'C:\\\\Users\\\\ELCOT/fitness.tar.gz'"
            ]
          },
          "execution_count": 27,
          "metadata": {},
          "output_type": "execute_result"
        }
      ],
      "source": [
        "client.repository.download(\"ef2254ce-def2-44f7-bbe7-cba71a75716b\", 'fitness.tar.gz')"
      ]
    }
  ],
  "metadata": {
    "kernelspec": {
      "display_name": "Python 3 (ipykernel)",
      "language": "python",
      "name": "python3"
    },
    "language_info": {
      "codemirror_mode": {
        "name": "ipython",
        "version": 3
      },
      "file_extension": ".py",
      "mimetype": "text/x-python",
      "name": "python",
      "nbconvert_exporter": "python",
      "pygments_lexer": "ipython3",
      "version": "3.9.13"
    },
    "colab": {
      "provenance": []
    }
  },
  "nbformat": 4,
  "nbformat_minor": 5
}