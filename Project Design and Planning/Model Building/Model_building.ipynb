{
  "nbformat": 4,
  "nbformat_minor": 0,
  "metadata": {
    "colab": {
      "provenance": []
    },
    "kernelspec": {
      "name": "python3",
      "display_name": "Python 3"
    },
    "language_info": {
      "name": "python"
    }
  },
  "cells": [
    {
      "cell_type": "code",
      "source": [
        "import numpy as np\n",
        "#used for numerical analysis\n",
        "import tensorflow #open source used for both ML and DL for computation\n",
        "from tensorflow.keras.models import Sequential #it is a plain stack of layers\n",
        "from tensorflow.keras import layers # a layer consists of a tensor-in tensor-out computation function\n",
        "#Dense layer is the regular deeply connected neural network layer\n",
        "from tensorflow.keras.layers import Dense, Flatten \n",
        "#Flatten-used fot flattering the input or change the dimension\n",
        "from tensorflow.keras.layers import Conv2D, MaxPooling2D, Dropout #convolutional layer\n",
        "#MaxPooling2D-for downsampling the image\n",
        "from keras.preprocessing.image import ImageDataGenerator"
      ],
      "metadata": {
        "id": "XdON9-MKqt-K"
      },
      "execution_count": 16,
      "outputs": []
    },
    {
      "cell_type": "code",
      "source": [
        "from google.colab import drive\n",
        "drive.mount('/content/drive')"
      ],
      "metadata": {
        "colab": {
          "base_uri": "https://localhost:8080/"
        },
        "id": "GzA6X1UjLctS",
        "outputId": "1d50ba6c-6a42-4f6a-b080-547d3da0fcd9"
      },
      "execution_count": 1,
      "outputs": [
        {
          "output_type": "stream",
          "name": "stdout",
          "text": [
            "Mounted at /content/drive\n"
          ]
        }
      ]
    },
    {
      "cell_type": "code",
      "source": [
        "model = models.Sequential()\n",
        "model.add(layers.Conv2D(32, (3, 3), activation='relu', input_shape=(32, 32, 3)))\n",
        "model.add(layers.MaxPooling2D((2, 2)))\n",
        "model.add(layers.Conv2D(64, (3, 3), activation='relu'))\n",
        "model.add(layers.MaxPooling2D((2, 2)))\n",
        "model.add(layers.Conv2D(64, (3, 3), activation='relu'))\n",
        "model.add(layers.Flatten())\n",
        "model.add(layers.Dense(64, activation='relu'))\n",
        "model.add(layers.Dense(10))\n"
      ],
      "metadata": {
        "id": "169yIjH3lrlT"
      },
      "execution_count": 9,
      "outputs": []
    },
    {
      "cell_type": "code",
      "source": [
        "model.summary()"
      ],
      "metadata": {
        "colab": {
          "base_uri": "https://localhost:8080/"
        },
        "id": "q5fdM_m2lvrx",
        "outputId": "b272bc21-170c-4ddc-bdb4-3bcf6d072ea7"
      },
      "execution_count": 10,
      "outputs": [
        {
          "output_type": "stream",
          "name": "stdout",
          "text": [
            "Model: \"sequential_1\"\n",
            "_________________________________________________________________\n",
            " Layer (type)                Output Shape              Param #   \n",
            "=================================================================\n",
            " conv2d_3 (Conv2D)           (None, 30, 30, 32)        896       \n",
            "                                                                 \n",
            " max_pooling2d_2 (MaxPooling  (None, 15, 15, 32)       0         \n",
            " 2D)                                                             \n",
            "                                                                 \n",
            " conv2d_4 (Conv2D)           (None, 13, 13, 64)        18496     \n",
            "                                                                 \n",
            " max_pooling2d_3 (MaxPooling  (None, 6, 6, 64)         0         \n",
            " 2D)                                                             \n",
            "                                                                 \n",
            " conv2d_5 (Conv2D)           (None, 4, 4, 64)          36928     \n",
            "                                                                 \n",
            " flatten (Flatten)           (None, 1024)              0         \n",
            "                                                                 \n",
            " dense (Dense)               (None, 64)                65600     \n",
            "                                                                 \n",
            " dense_1 (Dense)             (None, 10)                650       \n",
            "                                                                 \n",
            "=================================================================\n",
            "Total params: 122,570\n",
            "Trainable params: 122,570\n",
            "Non-trainable params: 0\n",
            "_________________________________________________________________\n"
          ]
        }
      ]
    },
    {
      "cell_type": "code",
      "source": [
        "model.compile(optimizer='adam',\n",
        "              loss=tf.keras.losses.SparseCategoricalCrossentropy(from_logits=True),\n",
        "              metrics=['accuracy'])\n",
        "\n",
        "history = model.fit(train_images, train_labels, epochs=10, \n",
        "                    validation_data=(test_images, test_labels))"
      ],
      "metadata": {
        "colab": {
          "base_uri": "https://localhost:8080/"
        },
        "id": "7TWsgR2kl1K5",
        "outputId": "30d894dd-e5d7-454d-e416-6c0dae81eb69"
      },
      "execution_count": 11,
      "outputs": [
        {
          "output_type": "stream",
          "name": "stdout",
          "text": [
            "Epoch 1/10\n",
            "1563/1563 [==============================] - 82s 52ms/step - loss: 1.5286 - accuracy: 0.4407 - val_loss: 1.2396 - val_accuracy: 0.5544\n",
            "Epoch 2/10\n",
            "1563/1563 [==============================] - 80s 52ms/step - loss: 1.1624 - accuracy: 0.5883 - val_loss: 1.0681 - val_accuracy: 0.6259\n",
            "Epoch 3/10\n",
            "1563/1563 [==============================] - 82s 52ms/step - loss: 1.0194 - accuracy: 0.6414 - val_loss: 1.0640 - val_accuracy: 0.6205\n",
            "Epoch 4/10\n",
            "1563/1563 [==============================] - 78s 50ms/step - loss: 0.9247 - accuracy: 0.6759 - val_loss: 0.9334 - val_accuracy: 0.6733\n",
            "Epoch 5/10\n",
            "1563/1563 [==============================] - 80s 51ms/step - loss: 0.8597 - accuracy: 0.7012 - val_loss: 0.9214 - val_accuracy: 0.6832\n",
            "Epoch 6/10\n",
            "1563/1563 [==============================] - 78s 50ms/step - loss: 0.8087 - accuracy: 0.7173 - val_loss: 0.8754 - val_accuracy: 0.6994\n",
            "Epoch 7/10\n",
            "1563/1563 [==============================] - 80s 51ms/step - loss: 0.7550 - accuracy: 0.7357 - val_loss: 0.8484 - val_accuracy: 0.7057\n",
            "Epoch 8/10\n",
            "1563/1563 [==============================] - 78s 50ms/step - loss: 0.7168 - accuracy: 0.7501 - val_loss: 0.8997 - val_accuracy: 0.6975\n",
            "Epoch 9/10\n",
            "1563/1563 [==============================] - 78s 50ms/step - loss: 0.6759 - accuracy: 0.7637 - val_loss: 0.8458 - val_accuracy: 0.7113\n",
            "Epoch 10/10\n",
            "1563/1563 [==============================] - 80s 51ms/step - loss: 0.6400 - accuracy: 0.7758 - val_loss: 0.8375 - val_accuracy: 0.7189\n"
          ]
        }
      ]
    },
    {
      "cell_type": "code",
      "source": [
        "model.save('Dataset.h5')"
      ],
      "metadata": {
        "id": "WLvInNYXpQTz"
      },
      "execution_count": 12,
      "outputs": []
    },
    {
      "cell_type": "code",
      "source": [
        "model.load_weights('Dataset.h5')"
      ],
      "metadata": {
        "id": "SW74x3bapQiW"
      },
      "execution_count": 13,
      "outputs": []
    },
    {
      "cell_type": "code",
      "source": [
        "from tensorflow.keras.preprocessing import image\n",
        "import numpy as np"
      ],
      "metadata": {
        "id": "RDF0KhD3qyoB"
      },
      "execution_count": 18,
      "outputs": []
    },
    {
      "cell_type": "code",
      "source": [
        "img=image.load_img('/content/drive/MyDrive/Dataset/Testing/Broccoli/67.jfif',target_size=(70,70))\n",
        "img"
      ],
      "metadata": {
        "colab": {
          "base_uri": "https://localhost:8080/",
          "height": 87
        },
        "id": "_OrLiTErq2xo",
        "outputId": "53ba92eb-1ad3-4d0e-f0f3-5c2f0a3aec66"
      },
      "execution_count": 19,
      "outputs": [
        {
          "output_type": "execute_result",
          "data": {
            "text/plain": [
              "<PIL.Image.Image image mode=RGB size=70x70 at 0x7F6FED99DED0>"
            ],
            "image/png": "[encoded data removed]"
          },
          "metadata": {},
          "execution_count": 19
        }
      ]
    },
    {
      "cell_type": "code",
      "source": [
        "x= image.img_to_array(img)\n"
      ],
      "metadata": {
        "id": "LN8xqzTar0Lb"
      },
      "execution_count": 20,
      "outputs": []
    },
    {
      "cell_type": "code",
      "source": [
        "x = np.expand_dims(x, axis=0)"
      ],
      "metadata": {
        "id": "p8lCho1Rr-E9"
      },
      "execution_count": 21,
      "outputs": []
    },
    {
      "cell_type": "code",
      "source": [
        "index=['Beetroot', 'Broccoli', 'Lettuce', 'Spinach']\n",
        "result=str(index[0])\n",
        "result"
      ],
      "metadata": {
        "colab": {
          "base_uri": "https://localhost:8080/",
          "height": 36
        },
        "id": "2fI9nwY7sSvT",
        "outputId": "00cdd35f-86f9-4fc0-8fe3-838a874ea43f"
      },
      "execution_count": 24,
      "outputs": [
        {
          "output_type": "execute_result",
          "data": {
            "text/plain": [
              "'Beetroot'"
            ],
            "application/vnd.google.colaboratory.intrinsic+json": {
              "type": "string"
            }
          },
          "metadata": {},
          "execution_count": 24
        }
      ]
    }
  ]
}